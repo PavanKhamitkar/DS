{
 "cells": [
  {
   "cell_type": "code",
   "execution_count": 1,
   "id": "18d0e62b-cc44-4fad-8411-40924aa087c2",
   "metadata": {},
   "outputs": [],
   "source": [
    "import pandas as pd"
   ]
  },
  {
   "cell_type": "code",
   "execution_count": 2,
   "id": "dea79606-14a4-4541-b581-f1238b97d5e3",
   "metadata": {},
   "outputs": [],
   "source": [
    "df = pd.read_csv('Employee.csv')"
   ]
  },
  {
   "cell_type": "code",
   "execution_count": 3,
   "id": "4481a19c-1132-4710-8ce3-fc7d33262f59",
   "metadata": {},
   "outputs": [
    {
     "data": {
      "text/html": [
       "<div>\n",
       "<style scoped>\n",
       "    .dataframe tbody tr th:only-of-type {\n",
       "        vertical-align: middle;\n",
       "    }\n",
       "\n",
       "    .dataframe tbody tr th {\n",
       "        vertical-align: top;\n",
       "    }\n",
       "\n",
       "    .dataframe thead th {\n",
       "        text-align: right;\n",
       "    }\n",
       "</style>\n",
       "<table border=\"1\" class=\"dataframe\">\n",
       "  <thead>\n",
       "    <tr style=\"text-align: right;\">\n",
       "      <th></th>\n",
       "      <th>Education</th>\n",
       "      <th>JoiningYear</th>\n",
       "      <th>City</th>\n",
       "      <th>PaymentTier</th>\n",
       "      <th>Age</th>\n",
       "      <th>Gender</th>\n",
       "      <th>EverBenched</th>\n",
       "      <th>ExperienceInCurrentDomain</th>\n",
       "      <th>LeaveOrNot</th>\n",
       "    </tr>\n",
       "  </thead>\n",
       "  <tbody>\n",
       "    <tr>\n",
       "      <th>0</th>\n",
       "      <td>Bachelors</td>\n",
       "      <td>2017</td>\n",
       "      <td>Bangalore</td>\n",
       "      <td>3</td>\n",
       "      <td>34</td>\n",
       "      <td>Male</td>\n",
       "      <td>No</td>\n",
       "      <td>0</td>\n",
       "      <td>0</td>\n",
       "    </tr>\n",
       "    <tr>\n",
       "      <th>1</th>\n",
       "      <td>Bachelors</td>\n",
       "      <td>2013</td>\n",
       "      <td>Pune</td>\n",
       "      <td>1</td>\n",
       "      <td>28</td>\n",
       "      <td>Female</td>\n",
       "      <td>No</td>\n",
       "      <td>3</td>\n",
       "      <td>1</td>\n",
       "    </tr>\n",
       "    <tr>\n",
       "      <th>2</th>\n",
       "      <td>Bachelors</td>\n",
       "      <td>2014</td>\n",
       "      <td>New Delhi</td>\n",
       "      <td>3</td>\n",
       "      <td>38</td>\n",
       "      <td>Female</td>\n",
       "      <td>No</td>\n",
       "      <td>2</td>\n",
       "      <td>0</td>\n",
       "    </tr>\n",
       "    <tr>\n",
       "      <th>3</th>\n",
       "      <td>Masters</td>\n",
       "      <td>2016</td>\n",
       "      <td>Bangalore</td>\n",
       "      <td>3</td>\n",
       "      <td>27</td>\n",
       "      <td>Male</td>\n",
       "      <td>No</td>\n",
       "      <td>5</td>\n",
       "      <td>1</td>\n",
       "    </tr>\n",
       "    <tr>\n",
       "      <th>4</th>\n",
       "      <td>Masters</td>\n",
       "      <td>2017</td>\n",
       "      <td>Pune</td>\n",
       "      <td>3</td>\n",
       "      <td>24</td>\n",
       "      <td>Male</td>\n",
       "      <td>Yes</td>\n",
       "      <td>2</td>\n",
       "      <td>1</td>\n",
       "    </tr>\n",
       "  </tbody>\n",
       "</table>\n",
       "</div>"
      ],
      "text/plain": [
       "   Education  JoiningYear       City  PaymentTier  Age  Gender EverBenched  \\\n",
       "0  Bachelors         2017  Bangalore            3   34    Male          No   \n",
       "1  Bachelors         2013       Pune            1   28  Female          No   \n",
       "2  Bachelors         2014  New Delhi            3   38  Female          No   \n",
       "3    Masters         2016  Bangalore            3   27    Male          No   \n",
       "4    Masters         2017       Pune            3   24    Male         Yes   \n",
       "\n",
       "   ExperienceInCurrentDomain  LeaveOrNot  \n",
       "0                          0           0  \n",
       "1                          3           1  \n",
       "2                          2           0  \n",
       "3                          5           1  \n",
       "4                          2           1  "
      ]
     },
     "execution_count": 3,
     "metadata": {},
     "output_type": "execute_result"
    }
   ],
   "source": [
    "df.head()"
   ]
  },
  {
   "cell_type": "markdown",
   "id": "fcc1914a-1348-4cc9-afbd-cf5836fbfebc",
   "metadata": {},
   "source": [
    "# Create Sample Data: Replace with actual data from data.csv."
   ]
  },
  {
   "cell_type": "code",
   "execution_count": 4,
   "id": "86b6009a-0b27-41a6-acab-cb30b129409b",
   "metadata": {},
   "outputs": [],
   "source": [
    "data = {\n",
    "    'age': [22, 24, 21, 25, 23, 20, 19, 26],\n",
    "    'income': [35000, 42000, 30000, 50000, 38000, 28000, 25000, 45000],\n",
    "    'Education':[\"B\",\"M\",\"B\",\"M\",\"B\",\"M\",\"B\",\"M\"]\n",
    "}"
   ]
  },
  {
   "cell_type": "markdown",
   "id": "43bf154d-7e47-416e-ad73-0fc9a0552c2c",
   "metadata": {},
   "source": [
    "# Create DataFrame: Construct a DataFrame from the sample data."
   ]
  },
  {
   "cell_type": "code",
   "execution_count": 6,
   "id": "d3b3b02a-c6ea-4260-9d39-25c910c086ae",
   "metadata": {},
   "outputs": [],
   "source": [
    "df = pd.DataFrame(data)"
   ]
  },
  {
   "cell_type": "code",
   "execution_count": 7,
   "id": "7399e5ac-7e3b-4efc-92c0-559b12b75315",
   "metadata": {},
   "outputs": [
    {
     "data": {
      "text/html": [
       "<div>\n",
       "<style scoped>\n",
       "    .dataframe tbody tr th:only-of-type {\n",
       "        vertical-align: middle;\n",
       "    }\n",
       "\n",
       "    .dataframe tbody tr th {\n",
       "        vertical-align: top;\n",
       "    }\n",
       "\n",
       "    .dataframe thead th {\n",
       "        text-align: right;\n",
       "    }\n",
       "</style>\n",
       "<table border=\"1\" class=\"dataframe\">\n",
       "  <thead>\n",
       "    <tr style=\"text-align: right;\">\n",
       "      <th></th>\n",
       "      <th>age</th>\n",
       "      <th>income</th>\n",
       "      <th>Education</th>\n",
       "    </tr>\n",
       "  </thead>\n",
       "  <tbody>\n",
       "    <tr>\n",
       "      <th>0</th>\n",
       "      <td>22</td>\n",
       "      <td>35000</td>\n",
       "      <td>B</td>\n",
       "    </tr>\n",
       "    <tr>\n",
       "      <th>1</th>\n",
       "      <td>24</td>\n",
       "      <td>42000</td>\n",
       "      <td>M</td>\n",
       "    </tr>\n",
       "    <tr>\n",
       "      <th>2</th>\n",
       "      <td>21</td>\n",
       "      <td>30000</td>\n",
       "      <td>B</td>\n",
       "    </tr>\n",
       "    <tr>\n",
       "      <th>3</th>\n",
       "      <td>25</td>\n",
       "      <td>50000</td>\n",
       "      <td>M</td>\n",
       "    </tr>\n",
       "    <tr>\n",
       "      <th>4</th>\n",
       "      <td>23</td>\n",
       "      <td>38000</td>\n",
       "      <td>B</td>\n",
       "    </tr>\n",
       "  </tbody>\n",
       "</table>\n",
       "</div>"
      ],
      "text/plain": [
       "   age  income Education\n",
       "0   22   35000         B\n",
       "1   24   42000         M\n",
       "2   21   30000         B\n",
       "3   25   50000         M\n",
       "4   23   38000         B"
      ]
     },
     "execution_count": 7,
     "metadata": {},
     "output_type": "execute_result"
    }
   ],
   "source": [
    "df.head()"
   ]
  },
  {
   "cell_type": "markdown",
   "id": "cc6efdd4-0bc8-4579-9476-02fd49f11a1d",
   "metadata": {},
   "source": [
    "# Group by Category: Group the DataFrame by the desired categorical variable "
   ]
  },
  {
   "cell_type": "code",
   "execution_count": 8,
   "id": "dd03c06c-8f1d-48de-a10e-aa59bb437118",
   "metadata": {},
   "outputs": [],
   "source": [
    "grouped_data = df.groupby('Education')"
   ]
  },
  {
   "cell_type": "markdown",
   "id": "c904a440-13e3-4c97-8474-68f4764cfe2b",
   "metadata": {},
   "source": [
    "# Calculate Summary Statistics: Use describe() on the grouped numeric columns ('age' and 'income') to obtain mean, median, standard deviation, minimum, and maximum for each group."
   ]
  },
  {
   "cell_type": "code",
   "execution_count": 9,
   "id": "0ff4f99a-a422-4b08-bd00-98d1ebbcced1",
   "metadata": {},
   "outputs": [],
   "source": [
    "summary_stats = grouped_data[['age', 'income']].describe()"
   ]
  },
  {
   "cell_type": "code",
   "execution_count": 11,
   "id": "1d4d155f-dc59-4938-93de-67dad8a3e8e1",
   "metadata": {},
   "outputs": [
    {
     "name": "stdout",
     "output_type": "stream",
     "text": [
      "<pandas.core.groupby.generic.DataFrameGroupBy object at 0x000001F71C507E80>\n"
     ]
    }
   ],
   "source": [
    "print(grouped_data)"
   ]
  },
  {
   "cell_type": "code",
   "execution_count": 12,
   "id": "dadda40c-17aa-4590-bf4c-e024395054dd",
   "metadata": {},
   "outputs": [
    {
     "name": "stdout",
     "output_type": "stream",
     "text": [
      "            age                                                 income  \\\n",
      "          count   mean       std   min   25%   50%    75%   max  count   \n",
      "Education                                                                \n",
      "B           4.0  21.25  1.707825  19.0  20.5  21.5  22.25  23.0    4.0   \n",
      "M           4.0  23.75  2.629956  20.0  23.0  24.5  25.25  26.0    4.0   \n",
      "\n",
      "                                                                              \n",
      "              mean          std      min      25%      50%      75%      max  \n",
      "Education                                                                     \n",
      "B          32000.0  5715.476066  25000.0  28750.0  32500.0  35750.0  38000.0  \n",
      "M          41250.0  9429.563440  28000.0  38500.0  43500.0  46250.0  50000.0  \n"
     ]
    }
   ],
   "source": [
    "print(summary_stats)"
   ]
  },
  {
   "cell_type": "code",
   "execution_count": null,
   "id": "9cf5b80b-8900-49ca-92d4-ae97a607397a",
   "metadata": {},
   "outputs": [],
   "source": []
  }
 ],
 "metadata": {
  "kernelspec": {
   "display_name": "Python 3 (ipykernel)",
   "language": "python",
   "name": "python3"
  },
  "language_info": {
   "codemirror_mode": {
    "name": "ipython",
    "version": 3
   },
   "file_extension": ".py",
   "mimetype": "text/x-python",
   "name": "python",
   "nbconvert_exporter": "python",
   "pygments_lexer": "ipython3",
   "version": "3.10.11"
  }
 },
 "nbformat": 4,
 "nbformat_minor": 5
}
