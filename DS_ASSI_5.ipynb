{
 "cells": [
  {
   "cell_type": "code",
   "execution_count": 1,
   "id": "9383f43b-182f-46ac-a90f-7c7d70752b42",
   "metadata": {},
   "outputs": [],
   "source": [
    "import pandas as pd\n",
    "from sklearn.model_selection import train_test_split\n",
    "from sklearn.linear_model import LogisticRegression\n",
    "from sklearn.preprocessing import StandardScaler\n",
    "from sklearn.metrics import confusion_matrix, accuracy_score, precision_score, recall_score"
   ]
  },
  {
   "cell_type": "raw",
   "id": "70ba0b7e-b2df-4aa3-a278-3f2ca83735cb",
   "metadata": {},
   "source": []
  },
  {
   "cell_type": "markdown",
   "id": "642fbee8-a0b4-45e5-824d-5852d04ab21d",
   "metadata": {},
   "source": [
    "\n",
    "# Load the dataset"
   ]
  },
  {
   "cell_type": "code",
   "execution_count": 2,
   "id": "be5fb2fc-4191-47c2-b5dc-f5403d8a4ee9",
   "metadata": {},
   "outputs": [],
   "source": [
    "data = pd.read_csv('Social_Network_Ads.csv')"
   ]
  },
  {
   "cell_type": "raw",
   "id": "cb74984e-871e-4c7d-97ee-4cbf8b8600c3",
   "metadata": {},
   "source": []
  },
  {
   "cell_type": "markdown",
   "id": "95554820-0f42-43ff-922a-3425d246d3f7",
   "metadata": {},
   "source": [
    "# Display the first few rows of the dataset and its information"
   ]
  },
  {
   "cell_type": "code",
   "execution_count": 3,
   "id": "6f9cd8ca-0987-4820-acd7-e3e407b400d6",
   "metadata": {},
   "outputs": [
    {
     "name": "stdout",
     "output_type": "stream",
     "text": [
      "    User ID  Gender  Age  EstimatedSalary  Purchased\n",
      "0  15624510    Male   19            19000          0\n",
      "1  15810944    Male   35            20000          0\n",
      "2  15668575  Female   26            43000          0\n",
      "3  15603246  Female   27            57000          0\n",
      "4  15804002    Male   19            76000          0\n"
     ]
    }
   ],
   "source": [
    "print(data.head())"
   ]
  },
  {
   "cell_type": "code",
   "execution_count": 4,
   "id": "dda6e674-c41b-41a7-9a14-9555376e2e81",
   "metadata": {},
   "outputs": [
    {
     "name": "stdout",
     "output_type": "stream",
     "text": [
      "<class 'pandas.core.frame.DataFrame'>\n",
      "RangeIndex: 400 entries, 0 to 399\n",
      "Data columns (total 5 columns):\n",
      " #   Column           Non-Null Count  Dtype \n",
      "---  ------           --------------  ----- \n",
      " 0   User ID          400 non-null    int64 \n",
      " 1   Gender           400 non-null    object\n",
      " 2   Age              400 non-null    int64 \n",
      " 3   EstimatedSalary  400 non-null    int64 \n",
      " 4   Purchased        400 non-null    int64 \n",
      "dtypes: int64(4), object(1)\n",
      "memory usage: 15.8+ KB\n",
      "None\n"
     ]
    }
   ],
   "source": [
    "print(data.info())"
   ]
  },
  {
   "cell_type": "code",
   "execution_count": 6,
   "id": "1ae0e3ac-7aca-4d69-a019-98836262d51d",
   "metadata": {},
   "outputs": [
    {
     "data": {
      "text/plain": [
       "User ID            0\n",
       "Gender             0\n",
       "Age                0\n",
       "EstimatedSalary    0\n",
       "Purchased          0\n",
       "dtype: int64"
      ]
     },
     "execution_count": 6,
     "metadata": {},
     "output_type": "execute_result"
    }
   ],
   "source": [
    "data.isnull().sum()"
   ]
  },
  {
   "cell_type": "raw",
   "id": "6104f4d0-5f1a-4281-9e1c-59bfde2954a3",
   "metadata": {},
   "source": []
  },
  {
   "cell_type": "markdown",
   "id": "9178e62b-83fa-49cb-bcdc-f8c85cce4f26",
   "metadata": {},
   "source": [
    "# Separate features (X) and target variable (y)"
   ]
  },
  {
   "cell_type": "code",
   "execution_count": 7,
   "id": "1b1a3055-d8a5-4bef-ba61-3e858aaf3269",
   "metadata": {},
   "outputs": [],
   "source": [
    "X = data[['Age', 'EstimatedSalary']]\n",
    "y = data['Purchased']"
   ]
  },
  {
   "cell_type": "raw",
   "id": "d5d1d8bf-d9e6-4e05-9448-46e31c9f27f8",
   "metadata": {},
   "source": []
  },
  {
   "cell_type": "markdown",
   "id": "bad3c456-0106-4c13-8839-466f24d026bf",
   "metadata": {},
   "source": [
    "# Splitting the dataset into training and testing sets"
   ]
  },
  {
   "cell_type": "code",
   "execution_count": 8,
   "id": "7e5c1d25-6b9b-4324-9d1b-edcc260c4cf9",
   "metadata": {},
   "outputs": [],
   "source": [
    "X_train, X_test, y_train, y_test = train_test_split(X, y, test_size=0.2, random_state=42)"
   ]
  },
  {
   "cell_type": "raw",
   "id": "30c2f7ce-8ef3-44e6-807b-03dd6bec65bf",
   "metadata": {},
   "source": []
  },
  {
   "cell_type": "markdown",
   "id": "23f6f24f-06b4-4cbe-8f23-e74e9437c9d4",
   "metadata": {},
   "source": [
    "# Feature scaling"
   ]
  },
  {
   "cell_type": "code",
   "execution_count": 9,
   "id": "9cf932c9-958d-451d-98f3-b72ee4d158a2",
   "metadata": {},
   "outputs": [],
   "source": [
    "scaler = StandardScaler()\n",
    "X_train_scaled = scaler.fit_transform(X_train)\n",
    "X_test_scaled = scaler.transform(X_test)"
   ]
  },
  {
   "cell_type": "raw",
   "id": "6d831e56-6ea2-4ac7-9734-49f287d6e9f3",
   "metadata": {},
   "source": []
  },
  {
   "cell_type": "markdown",
   "id": "916fa4b2-0840-45c0-80a1-cd1ccf1ff9e9",
   "metadata": {},
   "source": [
    "# Training the logistic regression model"
   ]
  },
  {
   "cell_type": "code",
   "execution_count": 10,
   "id": "06f4c10e-1b89-47eb-b4d5-d02b6ab7872d",
   "metadata": {},
   "outputs": [
    {
     "data": {
      "text/html": [
       "<style>#sk-container-id-1 {color: black;}#sk-container-id-1 pre{padding: 0;}#sk-container-id-1 div.sk-toggleable {background-color: white;}#sk-container-id-1 label.sk-toggleable__label {cursor: pointer;display: block;width: 100%;margin-bottom: 0;padding: 0.3em;box-sizing: border-box;text-align: center;}#sk-container-id-1 label.sk-toggleable__label-arrow:before {content: \"▸\";float: left;margin-right: 0.25em;color: #696969;}#sk-container-id-1 label.sk-toggleable__label-arrow:hover:before {color: black;}#sk-container-id-1 div.sk-estimator:hover label.sk-toggleable__label-arrow:before {color: black;}#sk-container-id-1 div.sk-toggleable__content {max-height: 0;max-width: 0;overflow: hidden;text-align: left;background-color: #f0f8ff;}#sk-container-id-1 div.sk-toggleable__content pre {margin: 0.2em;color: black;border-radius: 0.25em;background-color: #f0f8ff;}#sk-container-id-1 input.sk-toggleable__control:checked~div.sk-toggleable__content {max-height: 200px;max-width: 100%;overflow: auto;}#sk-container-id-1 input.sk-toggleable__control:checked~label.sk-toggleable__label-arrow:before {content: \"▾\";}#sk-container-id-1 div.sk-estimator input.sk-toggleable__control:checked~label.sk-toggleable__label {background-color: #d4ebff;}#sk-container-id-1 div.sk-label input.sk-toggleable__control:checked~label.sk-toggleable__label {background-color: #d4ebff;}#sk-container-id-1 input.sk-hidden--visually {border: 0;clip: rect(1px 1px 1px 1px);clip: rect(1px, 1px, 1px, 1px);height: 1px;margin: -1px;overflow: hidden;padding: 0;position: absolute;width: 1px;}#sk-container-id-1 div.sk-estimator {font-family: monospace;background-color: #f0f8ff;border: 1px dotted black;border-radius: 0.25em;box-sizing: border-box;margin-bottom: 0.5em;}#sk-container-id-1 div.sk-estimator:hover {background-color: #d4ebff;}#sk-container-id-1 div.sk-parallel-item::after {content: \"\";width: 100%;border-bottom: 1px solid gray;flex-grow: 1;}#sk-container-id-1 div.sk-label:hover label.sk-toggleable__label {background-color: #d4ebff;}#sk-container-id-1 div.sk-serial::before {content: \"\";position: absolute;border-left: 1px solid gray;box-sizing: border-box;top: 0;bottom: 0;left: 50%;z-index: 0;}#sk-container-id-1 div.sk-serial {display: flex;flex-direction: column;align-items: center;background-color: white;padding-right: 0.2em;padding-left: 0.2em;position: relative;}#sk-container-id-1 div.sk-item {position: relative;z-index: 1;}#sk-container-id-1 div.sk-parallel {display: flex;align-items: stretch;justify-content: center;background-color: white;position: relative;}#sk-container-id-1 div.sk-item::before, #sk-container-id-1 div.sk-parallel-item::before {content: \"\";position: absolute;border-left: 1px solid gray;box-sizing: border-box;top: 0;bottom: 0;left: 50%;z-index: -1;}#sk-container-id-1 div.sk-parallel-item {display: flex;flex-direction: column;z-index: 1;position: relative;background-color: white;}#sk-container-id-1 div.sk-parallel-item:first-child::after {align-self: flex-end;width: 50%;}#sk-container-id-1 div.sk-parallel-item:last-child::after {align-self: flex-start;width: 50%;}#sk-container-id-1 div.sk-parallel-item:only-child::after {width: 0;}#sk-container-id-1 div.sk-dashed-wrapped {border: 1px dashed gray;margin: 0 0.4em 0.5em 0.4em;box-sizing: border-box;padding-bottom: 0.4em;background-color: white;}#sk-container-id-1 div.sk-label label {font-family: monospace;font-weight: bold;display: inline-block;line-height: 1.2em;}#sk-container-id-1 div.sk-label-container {text-align: center;}#sk-container-id-1 div.sk-container {/* jupyter's `normalize.less` sets `[hidden] { display: none; }` but bootstrap.min.css set `[hidden] { display: none !important; }` so we also need the `!important` here to be able to override the default hidden behavior on the sphinx rendered scikit-learn.org. See: https://github.com/scikit-learn/scikit-learn/issues/21755 */display: inline-block !important;position: relative;}#sk-container-id-1 div.sk-text-repr-fallback {display: none;}</style><div id=\"sk-container-id-1\" class=\"sk-top-container\"><div class=\"sk-text-repr-fallback\"><pre>LogisticRegression()</pre><b>In a Jupyter environment, please rerun this cell to show the HTML representation or trust the notebook. <br />On GitHub, the HTML representation is unable to render, please try loading this page with nbviewer.org.</b></div><div class=\"sk-container\" hidden><div class=\"sk-item\"><div class=\"sk-estimator sk-toggleable\"><input class=\"sk-toggleable__control sk-hidden--visually\" id=\"sk-estimator-id-1\" type=\"checkbox\" checked><label for=\"sk-estimator-id-1\" class=\"sk-toggleable__label sk-toggleable__label-arrow\">LogisticRegression</label><div class=\"sk-toggleable__content\"><pre>LogisticRegression()</pre></div></div></div></div></div>"
      ],
      "text/plain": [
       "LogisticRegression()"
      ]
     },
     "execution_count": 10,
     "metadata": {},
     "output_type": "execute_result"
    }
   ],
   "source": [
    "model = LogisticRegression()\n",
    "model.fit(X_train_scaled, y_train)"
   ]
  },
  {
   "cell_type": "raw",
   "id": "c81c3412-c10f-4ca2-928b-bb12e5ce8180",
   "metadata": {},
   "source": []
  },
  {
   "cell_type": "markdown",
   "id": "99e34931-e2b7-4d6f-a39e-3e1a9bb584ae",
   "metadata": {},
   "source": [
    "# Making predictions and probability estimates"
   ]
  },
  {
   "cell_type": "code",
   "execution_count": 11,
   "id": "956416c1-04a9-4d34-9cd8-f807771e9b06",
   "metadata": {},
   "outputs": [],
   "source": [
    "y_pred = model.predict(X_test_scaled)"
   ]
  },
  {
   "cell_type": "code",
   "execution_count": 13,
   "id": "261d6099-e707-4f6b-8016-18dfb6f98ddb",
   "metadata": {},
   "outputs": [],
   "source": [
    "y_pred_prob = model.predict_proba(X_test_scaled)"
   ]
  },
  {
   "cell_type": "raw",
   "id": "008bb148-aee3-463b-9c53-022d8181ccb6",
   "metadata": {},
   "source": []
  },
  {
   "cell_type": "markdown",
   "id": "cf0e798a-b0fc-4c36-a155-af9ee74fcdd0",
   "metadata": {},
   "source": [
    "# Displaying the predictions, true labels, and predicted probabilities"
   ]
  },
  {
   "cell_type": "code",
   "execution_count": 14,
   "id": "850dec4b-8b20-422f-84a4-7deccf9647e5",
   "metadata": {},
   "outputs": [],
   "source": [
    "predictions_df = pd.DataFrame({'True Label': y_test,\n",
    "                               'Predicted Label': y_pred,\n",
    "                               'Probability of Class 0': y_pred_prob[:, 0],\n",
    "                               'Probability of Class 1': y_pred_prob[:, 1]})"
   ]
  },
  {
   "cell_type": "code",
   "execution_count": 15,
   "id": "3638187b-68a3-4985-9e52-842909142f85",
   "metadata": {},
   "outputs": [
    {
     "name": "stdout",
     "output_type": "stream",
     "text": [
      "Predictions and Probabilities:\n",
      "     True Label  Predicted Label  Probability of Class 0  \\\n",
      "209           0                0                0.735349   \n",
      "280           1                1                0.024987   \n",
      "33            0                0                0.977388   \n",
      "210           1                1                0.140986   \n",
      "93            0                0                0.983728   \n",
      "..          ...              ...                     ...   \n",
      "246           0                0                0.901899   \n",
      "227           1                1                0.010237   \n",
      "369           1                1                0.342366   \n",
      "176           0                0                0.910321   \n",
      "289           1                0                0.712657   \n",
      "\n",
      "     Probability of Class 1  \n",
      "209                0.264651  \n",
      "280                0.975013  \n",
      "33                 0.022612  \n",
      "210                0.859014  \n",
      "93                 0.016272  \n",
      "..                      ...  \n",
      "246                0.098101  \n",
      "227                0.989763  \n",
      "369                0.657634  \n",
      "176                0.089679  \n",
      "289                0.287343  \n",
      "\n",
      "[80 rows x 4 columns]\n"
     ]
    }
   ],
   "source": [
    "print(\"Predictions and Probabilities:\")\n",
    "print(predictions_df)"
   ]
  },
  {
   "cell_type": "raw",
   "id": "701dd036-bca0-4f1c-832e-14ad14cf00ac",
   "metadata": {},
   "source": []
  },
  {
   "cell_type": "markdown",
   "id": "c8edf8f1-7786-4a5b-b77f-e672d1d0d17f",
   "metadata": {},
   "source": [
    "# Computing Confusion Matrix"
   ]
  },
  {
   "cell_type": "code",
   "execution_count": 16,
   "id": "63ddeaf1-6649-4643-b77e-ae730bc5440d",
   "metadata": {},
   "outputs": [],
   "source": [
    "conf_matrix = confusion_matrix(y_test, y_pred)"
   ]
  },
  {
   "cell_type": "code",
   "execution_count": 17,
   "id": "4e25c8b2-6e42-4a72-87f9-c3b9946c9751",
   "metadata": {},
   "outputs": [
    {
     "name": "stdout",
     "output_type": "stream",
     "text": [
      "Confusion Matrix:\n",
      "[[50  2]\n",
      " [ 9 19]]\n"
     ]
    }
   ],
   "source": [
    "print(\"Confusion Matrix:\")\n",
    "print(conf_matrix)"
   ]
  },
  {
   "cell_type": "raw",
   "id": "b04c6dc1-7301-4cd1-8e35-8bef8f56538b",
   "metadata": {},
   "source": []
  },
  {
   "cell_type": "markdown",
   "id": "f2926d67-8908-47c3-9285-3b0a5b9dba25",
   "metadata": {},
   "source": [
    "# Extracting TP, FP, TN, FN from the confusion matrix"
   ]
  },
  {
   "cell_type": "code",
   "execution_count": 18,
   "id": "f2588df4-d6ab-4992-b51b-6943b5c60802",
   "metadata": {},
   "outputs": [],
   "source": [
    "TP = conf_matrix[1][1]\n",
    "FP = conf_matrix[0][1]\n",
    "TN = conf_matrix[0][0]\n",
    "FN = conf_matrix[1][0]"
   ]
  },
  {
   "cell_type": "raw",
   "id": "58e6868b-1052-4a7c-98ae-acf578b87a30",
   "metadata": {},
   "source": []
  },
  {
   "cell_type": "markdown",
   "id": "b1aebbb8-5054-4da5-86c8-0824d49d6c09",
   "metadata": {},
   "source": [
    "# Computing Accuracy"
   ]
  },
  {
   "cell_type": "code",
   "execution_count": 19,
   "id": "580300eb-1648-4afe-9da6-25378e296041",
   "metadata": {},
   "outputs": [],
   "source": [
    "accuracy = accuracy_score(y_test, y_pred)"
   ]
  },
  {
   "cell_type": "code",
   "execution_count": 20,
   "id": "6f98f8fb-ea0d-4429-93e9-80988f941898",
   "metadata": {},
   "outputs": [
    {
     "name": "stdout",
     "output_type": "stream",
     "text": [
      "Accuracy: 0.8625\n"
     ]
    }
   ],
   "source": [
    "print(\"Accuracy:\", accuracy)"
   ]
  },
  {
   "cell_type": "raw",
   "id": "4d4d6468-9866-4e0f-b72f-01e486f21fd5",
   "metadata": {},
   "source": []
  },
  {
   "cell_type": "markdown",
   "id": "4b3d1cbe-5c7d-4d51-b00b-e87e1b167e3a",
   "metadata": {},
   "source": [
    "# Computing Error Rate"
   ]
  },
  {
   "cell_type": "code",
   "execution_count": 21,
   "id": "0972093d-e10b-43d9-942c-0e5a399dc965",
   "metadata": {},
   "outputs": [],
   "source": [
    "error_rate = 1 - accuracy"
   ]
  },
  {
   "cell_type": "code",
   "execution_count": 22,
   "id": "574df819-6b5d-45bf-98b4-7aed07fe1851",
   "metadata": {},
   "outputs": [
    {
     "name": "stdout",
     "output_type": "stream",
     "text": [
      "Error Rate: 0.13749999999999996\n"
     ]
    }
   ],
   "source": [
    "print(\"Error Rate:\", error_rate)"
   ]
  },
  {
   "cell_type": "raw",
   "id": "00160700-5b22-4bc6-bcec-1489cf26fd8a",
   "metadata": {},
   "source": []
  },
  {
   "cell_type": "markdown",
   "id": "c8260774-2f12-4e19-97cb-78da01b77877",
   "metadata": {},
   "source": [
    "# Computing Precision"
   ]
  },
  {
   "cell_type": "code",
   "execution_count": 23,
   "id": "432c36cb-fc20-453f-a5e5-16864ab71518",
   "metadata": {},
   "outputs": [],
   "source": [
    "precision = precision_score(y_test, y_pred)"
   ]
  },
  {
   "cell_type": "code",
   "execution_count": 24,
   "id": "cae79770-8f0f-4531-9434-6b6df94853f6",
   "metadata": {},
   "outputs": [
    {
     "name": "stdout",
     "output_type": "stream",
     "text": [
      "Precision: 0.9047619047619048\n"
     ]
    }
   ],
   "source": [
    "print(\"Precision:\", precision)"
   ]
  },
  {
   "cell_type": "raw",
   "id": "0d95c124-4a26-49a4-a71c-72c9c63b19ab",
   "metadata": {},
   "source": []
  },
  {
   "cell_type": "markdown",
   "id": "0f3ce531-80ae-40e3-8360-170dd169f98f",
   "metadata": {},
   "source": [
    "# Computing Recall"
   ]
  },
  {
   "cell_type": "code",
   "execution_count": 25,
   "id": "ec4b93f1-8fdc-44ee-9d32-b06ffdbcabc0",
   "metadata": {},
   "outputs": [],
   "source": [
    "recall = recall_score(y_test, y_pred)"
   ]
  },
  {
   "cell_type": "code",
   "execution_count": 26,
   "id": "ce97e055-3a69-417f-b783-bddb1af2d8bf",
   "metadata": {},
   "outputs": [
    {
     "name": "stdout",
     "output_type": "stream",
     "text": [
      "Recall: 0.6785714285714286\n"
     ]
    }
   ],
   "source": [
    "print(\"Recall:\", recall)"
   ]
  },
  {
   "cell_type": "raw",
   "id": "dee65118-4ab3-402c-abc7-89599ab0a549",
   "metadata": {},
   "source": []
  },
  {
   "cell_type": "markdown",
   "id": "db9e3d2c-759e-4e3f-a963-fbc1469260f3",
   "metadata": {},
   "source": [
    "# Extracting TP, FP, TN, FN from the confusion matrix"
   ]
  },
  {
   "cell_type": "code",
   "execution_count": 27,
   "id": "9b4f5193-d08a-4bb9-ab65-23fb03ed4a32",
   "metadata": {},
   "outputs": [
    {
     "name": "stdout",
     "output_type": "stream",
     "text": [
      "TP -> 19\n"
     ]
    }
   ],
   "source": [
    "print(\"TP ->\",TP)"
   ]
  },
  {
   "cell_type": "code",
   "execution_count": 28,
   "id": "fe89315b-983c-4044-a1ec-50471c0bd95f",
   "metadata": {},
   "outputs": [
    {
     "name": "stdout",
     "output_type": "stream",
     "text": [
      "FP -> 2\n"
     ]
    }
   ],
   "source": [
    "print(\"FP ->\",FP)"
   ]
  },
  {
   "cell_type": "code",
   "execution_count": 29,
   "id": "a9e84dc4-c55d-4c99-bcf2-6a7cd112989e",
   "metadata": {},
   "outputs": [
    {
     "name": "stdout",
     "output_type": "stream",
     "text": [
      "TN -> 50\n"
     ]
    }
   ],
   "source": [
    "print(\"TN ->\",TN)"
   ]
  },
  {
   "cell_type": "code",
   "execution_count": 30,
   "id": "7b16e66e-0dc2-4d0f-b8da-2542de55d054",
   "metadata": {},
   "outputs": [
    {
     "name": "stdout",
     "output_type": "stream",
     "text": [
      "FN -> 9\n"
     ]
    }
   ],
   "source": [
    "print(\"FN ->\",FN)"
   ]
  },
  {
   "cell_type": "code",
   "execution_count": null,
   "id": "81166170-ae2b-4148-a1b3-62d076eb7c07",
   "metadata": {},
   "outputs": [],
   "source": []
  }
 ],
 "metadata": {
  "kernelspec": {
   "display_name": "Python 3 (ipykernel)",
   "language": "python",
   "name": "python3"
  },
  "language_info": {
   "codemirror_mode": {
    "name": "ipython",
    "version": 3
   },
   "file_extension": ".py",
   "mimetype": "text/x-python",
   "name": "python",
   "nbconvert_exporter": "python",
   "pygments_lexer": "ipython3",
   "version": "3.10.11"
  }
 },
 "nbformat": 4,
 "nbformat_minor": 5
}
