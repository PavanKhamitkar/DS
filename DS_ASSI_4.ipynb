{
 "cells": [
  {
   "cell_type": "code",
   "execution_count": 1,
   "id": "93d5dc46-2ac0-49fb-9845-2e8d458e2cb9",
   "metadata": {},
   "outputs": [],
   "source": [
    "import numpy as np\n",
    "import pandas as pd\n",
    "from sklearn.model_selection import train_test_split\n",
    "from sklearn.linear_model import LinearRegression\n",
    "from sklearn.metrics import mean_squared_error, r2_score"
   ]
  },
  {
   "cell_type": "raw",
   "id": "49be8660-2cea-4f38-aa26-b82cddf2d8d9",
   "metadata": {},
   "source": []
  },
  {
   "cell_type": "markdown",
   "id": "cad4faa0-837f-4729-9675-4c1ff82f0363",
   "metadata": {},
   "source": [
    "# Load the dataset from CSV"
   ]
  },
  {
   "cell_type": "code",
   "execution_count": 2,
   "id": "d88be94f-11fb-4cbe-9136-a45c9e701c29",
   "metadata": {},
   "outputs": [],
   "source": [
    "boston_df = pd.read_csv('BostonHousing.csv')"
   ]
  },
  {
   "cell_type": "raw",
   "id": "3e118979-e53f-46e0-9682-532f7f159f75",
   "metadata": {},
   "source": []
  },
  {
   "cell_type": "markdown",
   "id": "d0346981-0933-4550-b5c6-e26071f6c404",
   "metadata": {},
   "source": [
    "# Drop rows with any missing values"
   ]
  },
  {
   "cell_type": "code",
   "execution_count": 5,
   "id": "dcf166ef-6889-4d26-a4aa-00ae8bdbec1d",
   "metadata": {},
   "outputs": [
    {
     "data": {
      "text/plain": [
       "crim       0\n",
       "zn         0\n",
       "indus      0\n",
       "chas       0\n",
       "nox        0\n",
       "rm         5\n",
       "age        0\n",
       "dis        0\n",
       "rad        0\n",
       "tax        0\n",
       "ptratio    0\n",
       "b          0\n",
       "lstat      0\n",
       "medv       0\n",
       "dtype: int64"
      ]
     },
     "execution_count": 5,
     "metadata": {},
     "output_type": "execute_result"
    }
   ],
   "source": [
    "boston_df.isnull().sum()"
   ]
  },
  {
   "cell_type": "code",
   "execution_count": 6,
   "id": "799e1cbe-eac4-4938-a10e-d03990c52e50",
   "metadata": {},
   "outputs": [],
   "source": [
    "boston_df.dropna(inplace=True)"
   ]
  },
  {
   "cell_type": "raw",
   "id": "50623955-59b0-4676-8382-2e021c43837e",
   "metadata": {},
   "source": []
  },
  {
   "cell_type": "markdown",
   "id": "5ad86cd0-dba2-4c12-b3f0-2caa28b99f13",
   "metadata": {},
   "source": [
    "# Displaying first few rows and information about the dataset"
   ]
  },
  {
   "cell_type": "code",
   "execution_count": 7,
   "id": "b738b636-b925-4744-bb11-3da0baacde8d",
   "metadata": {},
   "outputs": [
    {
     "name": "stdout",
     "output_type": "stream",
     "text": [
      "      crim    zn  indus  chas    nox     rm   age     dis  rad  tax  ptratio  \\\n",
      "0  0.00632  18.0   2.31     0  0.538  6.575  65.2  4.0900    1  296     15.3   \n",
      "1  0.02731   0.0   7.07     0  0.469  6.421  78.9  4.9671    2  242     17.8   \n",
      "2  0.02729   0.0   7.07     0  0.469  7.185  61.1  4.9671    2  242     17.8   \n",
      "3  0.03237   0.0   2.18     0  0.458  6.998  45.8  6.0622    3  222     18.7   \n",
      "4  0.06905   0.0   2.18     0  0.458  7.147  54.2  6.0622    3  222     18.7   \n",
      "\n",
      "        b  lstat  medv  \n",
      "0  396.90   4.98  24.0  \n",
      "1  396.90   9.14  21.6  \n",
      "2  392.83   4.03  34.7  \n",
      "3  394.63   2.94  33.4  \n",
      "4  396.90   5.33  36.2  \n"
     ]
    }
   ],
   "source": [
    "print(boston_df.head())"
   ]
  },
  {
   "cell_type": "code",
   "execution_count": 8,
   "id": "157d77ea-08d4-4098-b757-90cb59066882",
   "metadata": {},
   "outputs": [
    {
     "name": "stdout",
     "output_type": "stream",
     "text": [
      "<class 'pandas.core.frame.DataFrame'>\n",
      "Index: 501 entries, 0 to 505\n",
      "Data columns (total 14 columns):\n",
      " #   Column   Non-Null Count  Dtype  \n",
      "---  ------   --------------  -----  \n",
      " 0   crim     501 non-null    float64\n",
      " 1   zn       501 non-null    float64\n",
      " 2   indus    501 non-null    float64\n",
      " 3   chas     501 non-null    int64  \n",
      " 4   nox      501 non-null    float64\n",
      " 5   rm       501 non-null    float64\n",
      " 6   age      501 non-null    float64\n",
      " 7   dis      501 non-null    float64\n",
      " 8   rad      501 non-null    int64  \n",
      " 9   tax      501 non-null    int64  \n",
      " 10  ptratio  501 non-null    float64\n",
      " 11  b        501 non-null    float64\n",
      " 12  lstat    501 non-null    float64\n",
      " 13  medv     501 non-null    float64\n",
      "dtypes: float64(11), int64(3)\n",
      "memory usage: 58.7 KB\n",
      "None\n"
     ]
    }
   ],
   "source": [
    "print(boston_df.info())"
   ]
  },
  {
   "cell_type": "raw",
   "id": "300c30bb-e80a-43d4-9add-6b2b3a53add0",
   "metadata": {},
   "source": []
  },
  {
   "cell_type": "markdown",
   "id": "929776d0-5fb5-4d55-91b2-3c985d1629b3",
   "metadata": {},
   "source": [
    "\n",
    "# Prepare the data"
   ]
  },
  {
   "cell_type": "code",
   "execution_count": 9,
   "id": "5178538e-f4a3-4d49-82bf-ab05ec24aaaa",
   "metadata": {},
   "outputs": [],
   "source": [
    "X = boston_df.drop('medv', axis=1)  # Features\n",
    "y = boston_df['medv']  # Target variable"
   ]
  },
  {
   "cell_type": "raw",
   "id": "b4ad2217-f227-4341-bf37-ed2bbf8e295a",
   "metadata": {},
   "source": []
  },
  {
   "cell_type": "markdown",
   "id": "b4a2f1b1-d2cb-4a29-b5c3-4628ad76e1ef",
   "metadata": {},
   "source": [
    "# Splitting the dataset into training and testing sets"
   ]
  },
  {
   "cell_type": "code",
   "execution_count": 10,
   "id": "87b7f54a-d191-4374-9833-773a3d8ab6e4",
   "metadata": {},
   "outputs": [],
   "source": [
    "X_train, X_test, y_train, y_test = train_test_split(X, y, test_size=0.2, random_state=42)"
   ]
  },
  {
   "cell_type": "raw",
   "id": "fb58588f-4089-44d2-b3e5-4ea894f4f2bf",
   "metadata": {},
   "source": []
  },
  {
   "cell_type": "markdown",
   "id": "40a99036-c0f1-497d-b4f4-6835384c0c9f",
   "metadata": {},
   "source": [
    "\n",
    "# Training the Linear Regression model"
   ]
  },
  {
   "cell_type": "code",
   "execution_count": 11,
   "id": "c4b87bfb-5a7f-43d2-a9c2-53b3b6a33874",
   "metadata": {},
   "outputs": [
    {
     "data": {
      "text/html": [
       "<style>#sk-container-id-1 {color: black;}#sk-container-id-1 pre{padding: 0;}#sk-container-id-1 div.sk-toggleable {background-color: white;}#sk-container-id-1 label.sk-toggleable__label {cursor: pointer;display: block;width: 100%;margin-bottom: 0;padding: 0.3em;box-sizing: border-box;text-align: center;}#sk-container-id-1 label.sk-toggleable__label-arrow:before {content: \"▸\";float: left;margin-right: 0.25em;color: #696969;}#sk-container-id-1 label.sk-toggleable__label-arrow:hover:before {color: black;}#sk-container-id-1 div.sk-estimator:hover label.sk-toggleable__label-arrow:before {color: black;}#sk-container-id-1 div.sk-toggleable__content {max-height: 0;max-width: 0;overflow: hidden;text-align: left;background-color: #f0f8ff;}#sk-container-id-1 div.sk-toggleable__content pre {margin: 0.2em;color: black;border-radius: 0.25em;background-color: #f0f8ff;}#sk-container-id-1 input.sk-toggleable__control:checked~div.sk-toggleable__content {max-height: 200px;max-width: 100%;overflow: auto;}#sk-container-id-1 input.sk-toggleable__control:checked~label.sk-toggleable__label-arrow:before {content: \"▾\";}#sk-container-id-1 div.sk-estimator input.sk-toggleable__control:checked~label.sk-toggleable__label {background-color: #d4ebff;}#sk-container-id-1 div.sk-label input.sk-toggleable__control:checked~label.sk-toggleable__label {background-color: #d4ebff;}#sk-container-id-1 input.sk-hidden--visually {border: 0;clip: rect(1px 1px 1px 1px);clip: rect(1px, 1px, 1px, 1px);height: 1px;margin: -1px;overflow: hidden;padding: 0;position: absolute;width: 1px;}#sk-container-id-1 div.sk-estimator {font-family: monospace;background-color: #f0f8ff;border: 1px dotted black;border-radius: 0.25em;box-sizing: border-box;margin-bottom: 0.5em;}#sk-container-id-1 div.sk-estimator:hover {background-color: #d4ebff;}#sk-container-id-1 div.sk-parallel-item::after {content: \"\";width: 100%;border-bottom: 1px solid gray;flex-grow: 1;}#sk-container-id-1 div.sk-label:hover label.sk-toggleable__label {background-color: #d4ebff;}#sk-container-id-1 div.sk-serial::before {content: \"\";position: absolute;border-left: 1px solid gray;box-sizing: border-box;top: 0;bottom: 0;left: 50%;z-index: 0;}#sk-container-id-1 div.sk-serial {display: flex;flex-direction: column;align-items: center;background-color: white;padding-right: 0.2em;padding-left: 0.2em;position: relative;}#sk-container-id-1 div.sk-item {position: relative;z-index: 1;}#sk-container-id-1 div.sk-parallel {display: flex;align-items: stretch;justify-content: center;background-color: white;position: relative;}#sk-container-id-1 div.sk-item::before, #sk-container-id-1 div.sk-parallel-item::before {content: \"\";position: absolute;border-left: 1px solid gray;box-sizing: border-box;top: 0;bottom: 0;left: 50%;z-index: -1;}#sk-container-id-1 div.sk-parallel-item {display: flex;flex-direction: column;z-index: 1;position: relative;background-color: white;}#sk-container-id-1 div.sk-parallel-item:first-child::after {align-self: flex-end;width: 50%;}#sk-container-id-1 div.sk-parallel-item:last-child::after {align-self: flex-start;width: 50%;}#sk-container-id-1 div.sk-parallel-item:only-child::after {width: 0;}#sk-container-id-1 div.sk-dashed-wrapped {border: 1px dashed gray;margin: 0 0.4em 0.5em 0.4em;box-sizing: border-box;padding-bottom: 0.4em;background-color: white;}#sk-container-id-1 div.sk-label label {font-family: monospace;font-weight: bold;display: inline-block;line-height: 1.2em;}#sk-container-id-1 div.sk-label-container {text-align: center;}#sk-container-id-1 div.sk-container {/* jupyter's `normalize.less` sets `[hidden] { display: none; }` but bootstrap.min.css set `[hidden] { display: none !important; }` so we also need the `!important` here to be able to override the default hidden behavior on the sphinx rendered scikit-learn.org. See: https://github.com/scikit-learn/scikit-learn/issues/21755 */display: inline-block !important;position: relative;}#sk-container-id-1 div.sk-text-repr-fallback {display: none;}</style><div id=\"sk-container-id-1\" class=\"sk-top-container\"><div class=\"sk-text-repr-fallback\"><pre>LinearRegression()</pre><b>In a Jupyter environment, please rerun this cell to show the HTML representation or trust the notebook. <br />On GitHub, the HTML representation is unable to render, please try loading this page with nbviewer.org.</b></div><div class=\"sk-container\" hidden><div class=\"sk-item\"><div class=\"sk-estimator sk-toggleable\"><input class=\"sk-toggleable__control sk-hidden--visually\" id=\"sk-estimator-id-1\" type=\"checkbox\" checked><label for=\"sk-estimator-id-1\" class=\"sk-toggleable__label sk-toggleable__label-arrow\">LinearRegression</label><div class=\"sk-toggleable__content\"><pre>LinearRegression()</pre></div></div></div></div></div>"
      ],
      "text/plain": [
       "LinearRegression()"
      ]
     },
     "execution_count": 11,
     "metadata": {},
     "output_type": "execute_result"
    }
   ],
   "source": [
    "model = LinearRegression()\n",
    "model.fit(X_train, y_train)"
   ]
  },
  {
   "cell_type": "raw",
   "id": "b846980b-1e06-40d8-a4f3-5817f1bbe818",
   "metadata": {},
   "source": []
  },
  {
   "cell_type": "markdown",
   "id": "ae8a4a18-6d8b-4aed-890b-6fa1b419dbf5",
   "metadata": {},
   "source": [
    "# Evaluate the model"
   ]
  },
  {
   "cell_type": "code",
   "execution_count": 12,
   "id": "4f3393cf-8168-40ab-a61a-77e311f1da5f",
   "metadata": {},
   "outputs": [],
   "source": [
    "y_pred = model.predict(X_test)\n",
    "mse = mean_squared_error(y_test, y_pred)\n",
    "r2 = r2_score(y_test, y_pred)"
   ]
  },
  {
   "cell_type": "code",
   "execution_count": 13,
   "id": "7c720d80-c123-4781-ada0-da04fd8e053d",
   "metadata": {},
   "outputs": [
    {
     "name": "stdout",
     "output_type": "stream",
     "text": [
      "Mean Squared Error: 20.687720473048557\n"
     ]
    }
   ],
   "source": [
    "print(f'Mean Squared Error: {mse}')"
   ]
  },
  {
   "cell_type": "code",
   "execution_count": 14,
   "id": "58205a9a-fafb-4d8f-bafc-11f03b4eb122",
   "metadata": {},
   "outputs": [
    {
     "name": "stdout",
     "output_type": "stream",
     "text": [
      "R^2 Score: 0.7200277678580307\n"
     ]
    }
   ],
   "source": [
    "print(f'R^2 Score: {r2}')"
   ]
  },
  {
   "cell_type": "raw",
   "id": "9b362d25-ba00-4f7b-9622-4589096e0b2c",
   "metadata": {},
   "source": []
  },
  {
   "cell_type": "markdown",
   "id": "7c3236b6-b0ef-424b-a3db-cb9d4020b79b",
   "metadata": {},
   "source": [
    "# Making predictions\n",
    "# We can use the model to predict prices for new data\n",
    "# For example:"
   ]
  },
  {
   "cell_type": "code",
   "execution_count": 15,
   "id": "a5fff12b-b269-4bde-861e-3a4e83d0473d",
   "metadata": {},
   "outputs": [],
   "source": [
    "new_data = np.array([[0.00632, 18, 2.31, 0, 0.538, 6.575, 65.2, 4.09, 1, 296, 15.3, 396.9, 4.98]])"
   ]
  },
  {
   "cell_type": "code",
   "execution_count": 16,
   "id": "f0095876-9edf-4228-9804-bc0326605c69",
   "metadata": {},
   "outputs": [
    {
     "name": "stderr",
     "output_type": "stream",
     "text": [
      "C:\\Users\\khami\\AppData\\Local\\Packages\\PythonSoftwareFoundation.Python.3.10_qbz5n2kfra8p0\\LocalCache\\local-packages\\Python310\\site-packages\\sklearn\\base.py:465: UserWarning: X does not have valid feature names, but LinearRegression was fitted with feature names\n",
      "  warnings.warn(\n"
     ]
    }
   ],
   "source": [
    "predicted_price = model.predict(new_data)"
   ]
  },
  {
   "cell_type": "code",
   "execution_count": 17,
   "id": "55310df4-96dc-4914-ba6a-78eb933e482d",
   "metadata": {},
   "outputs": [
    {
     "name": "stdout",
     "output_type": "stream",
     "text": [
      "Predicted price for the new data: [30.41900005]\n"
     ]
    }
   ],
   "source": [
    "print(f'Predicted price for the new data: {predicted_price}')"
   ]
  },
  {
   "cell_type": "code",
   "execution_count": null,
   "id": "c082c0e8-92c7-4bc1-b51b-d8208b15eb81",
   "metadata": {},
   "outputs": [],
   "source": []
  }
 ],
 "metadata": {
  "kernelspec": {
   "display_name": "Python 3 (ipykernel)",
   "language": "python",
   "name": "python3"
  },
  "language_info": {
   "codemirror_mode": {
    "name": "ipython",
    "version": 3
   },
   "file_extension": ".py",
   "mimetype": "text/x-python",
   "name": "python",
   "nbconvert_exporter": "python",
   "pygments_lexer": "ipython3",
   "version": "3.10.11"
  }
 },
 "nbformat": 4,
 "nbformat_minor": 5
}
