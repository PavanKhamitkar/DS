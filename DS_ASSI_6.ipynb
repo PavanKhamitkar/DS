{
 "cells": [
  {
   "cell_type": "code",
   "execution_count": 1,
   "id": "261d2da2-e16a-4298-9a5a-674709388e0a",
   "metadata": {},
   "outputs": [],
   "source": [
    "import pandas as pd\n",
    "from sklearn.model_selection import train_test_split\n",
    "from sklearn.naive_bayes import GaussianNB\n",
    "from sklearn.metrics import confusion_matrix, accuracy_score, precision_score, recall_score\n"
   ]
  },
  {
   "cell_type": "raw",
   "id": "6499741f-de66-448a-b50a-afc3fb43fdb4",
   "metadata": {},
   "source": []
  },
  {
   "cell_type": "markdown",
   "id": "bbc997c3-e618-4df6-a78c-210c4a5aed00",
   "metadata": {},
   "source": [
    "# Load the dataset from CSV"
   ]
  },
  {
   "cell_type": "code",
   "execution_count": 2,
   "id": "71019fd4-817c-44e6-92e1-4d82232b324f",
   "metadata": {},
   "outputs": [],
   "source": [
    "iris_df = pd.read_csv('IRIS.csv')"
   ]
  },
  {
   "cell_type": "raw",
   "id": "ac0158d1-f765-443d-9d64-51c677c4bda9",
   "metadata": {},
   "source": []
  },
  {
   "cell_type": "markdown",
   "id": "33db2d5d-2fa1-4b06-ac3f-543839dd7641",
   "metadata": {},
   "source": [
    "# Display the first few rows of the dataset and its information"
   ]
  },
  {
   "cell_type": "code",
   "execution_count": 3,
   "id": "037a1b2b-84f7-4a86-b6ee-0bc5b8d989a0",
   "metadata": {},
   "outputs": [
    {
     "name": "stdout",
     "output_type": "stream",
     "text": [
      "   sepal_length  sepal_width  petal_length  petal_width      species\n",
      "0           5.1          3.5           1.4          0.2  Iris-setosa\n",
      "1           4.9          3.0           1.4          0.2  Iris-setosa\n",
      "2           4.7          3.2           1.3          0.2  Iris-setosa\n",
      "3           4.6          3.1           1.5          0.2  Iris-setosa\n",
      "4           5.0          3.6           1.4          0.2  Iris-setosa\n"
     ]
    }
   ],
   "source": [
    "print(iris_df.head())"
   ]
  },
  {
   "cell_type": "code",
   "execution_count": 4,
   "id": "683db694-4d45-4677-9f74-1b5ba025bfd4",
   "metadata": {},
   "outputs": [
    {
     "name": "stdout",
     "output_type": "stream",
     "text": [
      "<class 'pandas.core.frame.DataFrame'>\n",
      "RangeIndex: 150 entries, 0 to 149\n",
      "Data columns (total 5 columns):\n",
      " #   Column        Non-Null Count  Dtype  \n",
      "---  ------        --------------  -----  \n",
      " 0   sepal_length  150 non-null    float64\n",
      " 1   sepal_width   150 non-null    float64\n",
      " 2   petal_length  150 non-null    float64\n",
      " 3   petal_width   150 non-null    float64\n",
      " 4   species       150 non-null    object \n",
      "dtypes: float64(4), object(1)\n",
      "memory usage: 6.0+ KB\n",
      "None\n"
     ]
    }
   ],
   "source": [
    "print(iris_df.info())"
   ]
  },
  {
   "cell_type": "code",
   "execution_count": 5,
   "id": "56898e55-0cd7-438f-be81-637e4bb953d5",
   "metadata": {},
   "outputs": [
    {
     "name": "stdout",
     "output_type": "stream",
     "text": [
      "sepal_length    0\n",
      "sepal_width     0\n",
      "petal_length    0\n",
      "petal_width     0\n",
      "species         0\n",
      "dtype: int64\n"
     ]
    }
   ],
   "source": [
    "print(iris_df.isnull().sum())"
   ]
  },
  {
   "cell_type": "raw",
   "id": "a6fa9873-ed57-45d1-8b7d-43bb1ae805f9",
   "metadata": {},
   "source": []
  },
  {
   "cell_type": "markdown",
   "id": "01b3f199-1fff-4221-826b-ad93cb8c57e5",
   "metadata": {},
   "source": [
    "# Separate features (X) and target variable (y)"
   ]
  },
  {
   "cell_type": "code",
   "execution_count": 6,
   "id": "687b3305-b330-43a4-b638-193452c62768",
   "metadata": {},
   "outputs": [],
   "source": [
    "X = iris_df.drop('species', axis=1)\n",
    "y = iris_df['species']"
   ]
  },
  {
   "cell_type": "raw",
   "id": "516cf072-5af7-455a-a309-1341048504bc",
   "metadata": {},
   "source": []
  },
  {
   "cell_type": "markdown",
   "id": "99b10cd8-38af-4c7e-be8c-febcf85eacfe",
   "metadata": {},
   "source": [
    "# Splitting the dataset into training and testing sets\n"
   ]
  },
  {
   "cell_type": "code",
   "execution_count": 7,
   "id": "2e0fbcb3-eff0-44e0-86e3-54a1aa2be76c",
   "metadata": {},
   "outputs": [],
   "source": [
    "X_train, X_test, y_train, y_test = train_test_split(X, y, test_size=0.2, random_state=42)\n"
   ]
  },
  {
   "cell_type": "raw",
   "id": "24adc566-86d3-4b0d-916c-76f6aeaa898a",
   "metadata": {},
   "source": []
  },
  {
   "cell_type": "markdown",
   "id": "f19db5ab-abc6-43ed-ac1f-d14e12542fbe",
   "metadata": {},
   "source": [
    "# Training the Naïve Bayes model"
   ]
  },
  {
   "cell_type": "code",
   "execution_count": 8,
   "id": "475010e8-e691-4b79-a2cf-cc3c859acecc",
   "metadata": {},
   "outputs": [
    {
     "data": {
      "text/html": [
       "<style>#sk-container-id-1 {color: black;}#sk-container-id-1 pre{padding: 0;}#sk-container-id-1 div.sk-toggleable {background-color: white;}#sk-container-id-1 label.sk-toggleable__label {cursor: pointer;display: block;width: 100%;margin-bottom: 0;padding: 0.3em;box-sizing: border-box;text-align: center;}#sk-container-id-1 label.sk-toggleable__label-arrow:before {content: \"▸\";float: left;margin-right: 0.25em;color: #696969;}#sk-container-id-1 label.sk-toggleable__label-arrow:hover:before {color: black;}#sk-container-id-1 div.sk-estimator:hover label.sk-toggleable__label-arrow:before {color: black;}#sk-container-id-1 div.sk-toggleable__content {max-height: 0;max-width: 0;overflow: hidden;text-align: left;background-color: #f0f8ff;}#sk-container-id-1 div.sk-toggleable__content pre {margin: 0.2em;color: black;border-radius: 0.25em;background-color: #f0f8ff;}#sk-container-id-1 input.sk-toggleable__control:checked~div.sk-toggleable__content {max-height: 200px;max-width: 100%;overflow: auto;}#sk-container-id-1 input.sk-toggleable__control:checked~label.sk-toggleable__label-arrow:before {content: \"▾\";}#sk-container-id-1 div.sk-estimator input.sk-toggleable__control:checked~label.sk-toggleable__label {background-color: #d4ebff;}#sk-container-id-1 div.sk-label input.sk-toggleable__control:checked~label.sk-toggleable__label {background-color: #d4ebff;}#sk-container-id-1 input.sk-hidden--visually {border: 0;clip: rect(1px 1px 1px 1px);clip: rect(1px, 1px, 1px, 1px);height: 1px;margin: -1px;overflow: hidden;padding: 0;position: absolute;width: 1px;}#sk-container-id-1 div.sk-estimator {font-family: monospace;background-color: #f0f8ff;border: 1px dotted black;border-radius: 0.25em;box-sizing: border-box;margin-bottom: 0.5em;}#sk-container-id-1 div.sk-estimator:hover {background-color: #d4ebff;}#sk-container-id-1 div.sk-parallel-item::after {content: \"\";width: 100%;border-bottom: 1px solid gray;flex-grow: 1;}#sk-container-id-1 div.sk-label:hover label.sk-toggleable__label {background-color: #d4ebff;}#sk-container-id-1 div.sk-serial::before {content: \"\";position: absolute;border-left: 1px solid gray;box-sizing: border-box;top: 0;bottom: 0;left: 50%;z-index: 0;}#sk-container-id-1 div.sk-serial {display: flex;flex-direction: column;align-items: center;background-color: white;padding-right: 0.2em;padding-left: 0.2em;position: relative;}#sk-container-id-1 div.sk-item {position: relative;z-index: 1;}#sk-container-id-1 div.sk-parallel {display: flex;align-items: stretch;justify-content: center;background-color: white;position: relative;}#sk-container-id-1 div.sk-item::before, #sk-container-id-1 div.sk-parallel-item::before {content: \"\";position: absolute;border-left: 1px solid gray;box-sizing: border-box;top: 0;bottom: 0;left: 50%;z-index: -1;}#sk-container-id-1 div.sk-parallel-item {display: flex;flex-direction: column;z-index: 1;position: relative;background-color: white;}#sk-container-id-1 div.sk-parallel-item:first-child::after {align-self: flex-end;width: 50%;}#sk-container-id-1 div.sk-parallel-item:last-child::after {align-self: flex-start;width: 50%;}#sk-container-id-1 div.sk-parallel-item:only-child::after {width: 0;}#sk-container-id-1 div.sk-dashed-wrapped {border: 1px dashed gray;margin: 0 0.4em 0.5em 0.4em;box-sizing: border-box;padding-bottom: 0.4em;background-color: white;}#sk-container-id-1 div.sk-label label {font-family: monospace;font-weight: bold;display: inline-block;line-height: 1.2em;}#sk-container-id-1 div.sk-label-container {text-align: center;}#sk-container-id-1 div.sk-container {/* jupyter's `normalize.less` sets `[hidden] { display: none; }` but bootstrap.min.css set `[hidden] { display: none !important; }` so we also need the `!important` here to be able to override the default hidden behavior on the sphinx rendered scikit-learn.org. See: https://github.com/scikit-learn/scikit-learn/issues/21755 */display: inline-block !important;position: relative;}#sk-container-id-1 div.sk-text-repr-fallback {display: none;}</style><div id=\"sk-container-id-1\" class=\"sk-top-container\"><div class=\"sk-text-repr-fallback\"><pre>GaussianNB()</pre><b>In a Jupyter environment, please rerun this cell to show the HTML representation or trust the notebook. <br />On GitHub, the HTML representation is unable to render, please try loading this page with nbviewer.org.</b></div><div class=\"sk-container\" hidden><div class=\"sk-item\"><div class=\"sk-estimator sk-toggleable\"><input class=\"sk-toggleable__control sk-hidden--visually\" id=\"sk-estimator-id-1\" type=\"checkbox\" checked><label for=\"sk-estimator-id-1\" class=\"sk-toggleable__label sk-toggleable__label-arrow\">GaussianNB</label><div class=\"sk-toggleable__content\"><pre>GaussianNB()</pre></div></div></div></div></div>"
      ],
      "text/plain": [
       "GaussianNB()"
      ]
     },
     "execution_count": 8,
     "metadata": {},
     "output_type": "execute_result"
    }
   ],
   "source": [
    "model = GaussianNB()\n",
    "model.fit(X_train, y_train)"
   ]
  },
  {
   "cell_type": "raw",
   "id": "cfe4b260-334a-4b4b-add4-413bfabf5a53",
   "metadata": {},
   "source": []
  },
  {
   "cell_type": "markdown",
   "id": "2767f48d-3e37-447c-a795-0b62f2473309",
   "metadata": {},
   "source": [
    "# Making predictions"
   ]
  },
  {
   "cell_type": "code",
   "execution_count": 9,
   "id": "bc9c04cf-980d-48cb-9f96-14038d7137e1",
   "metadata": {},
   "outputs": [],
   "source": [
    "y_pred = model.predict(X_test)"
   ]
  },
  {
   "cell_type": "raw",
   "id": "d2641681-0d18-4586-93fe-ca2490bbe337",
   "metadata": {},
   "source": []
  },
  {
   "cell_type": "markdown",
   "id": "9d090981-7d4b-46fc-b07c-7941a28d8366",
   "metadata": {},
   "source": [
    "# Displaying predictions for a few samples"
   ]
  },
  {
   "cell_type": "code",
   "execution_count": 10,
   "id": "82835f22-bb2e-4c2c-9868-580010822498",
   "metadata": {},
   "outputs": [],
   "source": [
    "sample_predictions = pd.DataFrame({'Actual Species': y_test, 'Predicted Species': y_pred})"
   ]
  },
  {
   "cell_type": "code",
   "execution_count": 11,
   "id": "470881bd-481e-43a9-bc8d-b269b5a5ead4",
   "metadata": {},
   "outputs": [
    {
     "name": "stdout",
     "output_type": "stream",
     "text": [
      "Sample Predictions:\n",
      "      Actual Species Predicted Species\n",
      "73   Iris-versicolor   Iris-versicolor\n",
      "18       Iris-setosa       Iris-setosa\n",
      "118   Iris-virginica    Iris-virginica\n",
      "78   Iris-versicolor   Iris-versicolor\n",
      "76   Iris-versicolor   Iris-versicolor\n"
     ]
    }
   ],
   "source": [
    "print(\"Sample Predictions:\")\n",
    "print(sample_predictions.head())"
   ]
  },
  {
   "cell_type": "raw",
   "id": "d04fd40c-32ac-4e9e-814a-6b0489fef941",
   "metadata": {},
   "source": []
  },
  {
   "cell_type": "markdown",
   "id": "1cc2a26c-a2dd-4699-a0cf-bd5be6384048",
   "metadata": {},
   "source": [
    "# Computing Confusion Matrix"
   ]
  },
  {
   "cell_type": "code",
   "execution_count": 12,
   "id": "819a2f8d-edd6-4acb-bc7f-0cc018c54faf",
   "metadata": {},
   "outputs": [],
   "source": [
    "conf_matrix = confusion_matrix(y_test, y_pred)"
   ]
  },
  {
   "cell_type": "code",
   "execution_count": 13,
   "id": "3b934ad5-cb4e-465c-8437-ddd1f9703d65",
   "metadata": {},
   "outputs": [
    {
     "name": "stdout",
     "output_type": "stream",
     "text": [
      "\n",
      "Confusion Matrix:\n",
      "[[10  0  0]\n",
      " [ 0  9  0]\n",
      " [ 0  0 11]]\n"
     ]
    }
   ],
   "source": [
    "print(\"\\nConfusion Matrix:\")\n",
    "print(conf_matrix)"
   ]
  },
  {
   "cell_type": "raw",
   "id": "1c1a8a17-07dc-4f9b-bedd-23d75972b756",
   "metadata": {},
   "source": []
  },
  {
   "cell_type": "markdown",
   "id": "71597ad6-1faf-4cbe-9408-0d515475c8b1",
   "metadata": {},
   "source": [
    "# Extracting TP, FP, TN, FN from the confusion matrix"
   ]
  },
  {
   "cell_type": "code",
   "execution_count": 14,
   "id": "ab0a6ca4-f80d-427f-bd9a-a3eeb8471fce",
   "metadata": {},
   "outputs": [],
   "source": [
    "TP = conf_matrix[1][1]\n",
    "FP = conf_matrix[0][1]\n",
    "TN = conf_matrix[0][0]\n",
    "FN = conf_matrix[1][0]"
   ]
  },
  {
   "cell_type": "raw",
   "id": "b59f761f-29c8-4539-9fa0-555123956adf",
   "metadata": {},
   "source": []
  },
  {
   "cell_type": "markdown",
   "id": "4ecf742a-4c54-4cda-8e90-f822150a1655",
   "metadata": {},
   "source": [
    "# Showing TP, FP, TN, FN from the confusion matrix"
   ]
  },
  {
   "cell_type": "code",
   "execution_count": 15,
   "id": "e734dbb0-c708-4e1a-b4b4-0d519875da31",
   "metadata": {},
   "outputs": [
    {
     "name": "stdout",
     "output_type": "stream",
     "text": [
      "TP -> 9\n",
      "FP -> 0\n",
      "TN -> 10\n",
      "FN -> 0\n"
     ]
    }
   ],
   "source": [
    "print(\"TP ->\",TP)\n",
    "print(\"FP ->\",FP)\n",
    "print(\"TN ->\",TN)\n",
    "print(\"FN ->\",FN)"
   ]
  },
  {
   "cell_type": "raw",
   "id": "f332e953-a068-4927-b5bf-13ed7fc440a1",
   "metadata": {},
   "source": []
  },
  {
   "cell_type": "markdown",
   "id": "fadf90e3-c08a-4a88-acb0-a161ea7899a4",
   "metadata": {},
   "source": [
    "# Computing Accuracy"
   ]
  },
  {
   "cell_type": "code",
   "execution_count": 16,
   "id": "c53fe7b2-069e-4b7e-8364-2141e6e28315",
   "metadata": {},
   "outputs": [],
   "source": [
    "accuracy = accuracy_score(y_test, y_pred)"
   ]
  },
  {
   "cell_type": "code",
   "execution_count": 17,
   "id": "ac748850-75e5-4e12-94dd-d83ea05c3117",
   "metadata": {},
   "outputs": [
    {
     "name": "stdout",
     "output_type": "stream",
     "text": [
      "\n",
      "Accuracy: 1.0\n"
     ]
    }
   ],
   "source": [
    "print(\"\\nAccuracy:\", accuracy)"
   ]
  },
  {
   "cell_type": "raw",
   "id": "a6b39e96-1ac4-4333-987d-71e507847504",
   "metadata": {},
   "source": []
  },
  {
   "cell_type": "markdown",
   "id": "3406729c-2bec-4a5a-bf3a-2f30675f4cac",
   "metadata": {},
   "source": [
    "# Computing Error Rate"
   ]
  },
  {
   "cell_type": "code",
   "execution_count": 18,
   "id": "c2724a8e-6f69-4b3b-9155-b69d752e7d91",
   "metadata": {},
   "outputs": [],
   "source": [
    "error_rate = 1 - accuracy"
   ]
  },
  {
   "cell_type": "code",
   "execution_count": 19,
   "id": "3460f1c7-83d0-4ef2-94e9-f1832c304218",
   "metadata": {},
   "outputs": [
    {
     "name": "stdout",
     "output_type": "stream",
     "text": [
      "Error Rate: 0.0\n"
     ]
    }
   ],
   "source": [
    "print(\"Error Rate:\", error_rate)"
   ]
  },
  {
   "cell_type": "raw",
   "id": "f7113998-07d2-4560-b11c-76a5c746fbe3",
   "metadata": {},
   "source": []
  },
  {
   "cell_type": "markdown",
   "id": "980a1944-d6cf-4e68-a0f6-d9b553a0e646",
   "metadata": {},
   "source": [
    "# Computing Precision"
   ]
  },
  {
   "cell_type": "code",
   "execution_count": 20,
   "id": "bbe4ae77-72cf-4af3-935b-f4e5684b8c50",
   "metadata": {},
   "outputs": [],
   "source": [
    "precision = precision_score(y_test, y_pred, average='macro')"
   ]
  },
  {
   "cell_type": "code",
   "execution_count": 21,
   "id": "0382b6c1-0627-446c-a73e-e610052244c2",
   "metadata": {},
   "outputs": [
    {
     "name": "stdout",
     "output_type": "stream",
     "text": [
      "Precision: 1.0\n"
     ]
    }
   ],
   "source": [
    "print(\"Precision:\", precision)"
   ]
  },
  {
   "cell_type": "raw",
   "id": "7f174148-a55b-4e8b-9434-4d9afba6f39f",
   "metadata": {},
   "source": []
  },
  {
   "cell_type": "markdown",
   "id": "9e6f42a4-2939-4fa3-806f-e55555b1d2b7",
   "metadata": {},
   "source": [
    "# Computing Recall"
   ]
  },
  {
   "cell_type": "code",
   "execution_count": 22,
   "id": "85df843c-e763-42b0-bc58-3a0c30b3f08e",
   "metadata": {},
   "outputs": [],
   "source": [
    "recall = recall_score(y_test, y_pred, average='macro')"
   ]
  },
  {
   "cell_type": "code",
   "execution_count": 23,
   "id": "7a03e087-69ab-411c-8757-0d34e64ee785",
   "metadata": {},
   "outputs": [
    {
     "name": "stdout",
     "output_type": "stream",
     "text": [
      "Recall: 1.0\n"
     ]
    }
   ],
   "source": [
    "print(\"Recall:\", recall)"
   ]
  },
  {
   "cell_type": "code",
   "execution_count": null,
   "id": "e58b4667-e5e2-4c09-8dd6-4e90be12c647",
   "metadata": {},
   "outputs": [],
   "source": []
  }
 ],
 "metadata": {
  "kernelspec": {
   "display_name": "Python 3 (ipykernel)",
   "language": "python",
   "name": "python3"
  },
  "language_info": {
   "codemirror_mode": {
    "name": "ipython",
    "version": 3
   },
   "file_extension": ".py",
   "mimetype": "text/x-python",
   "name": "python",
   "nbconvert_exporter": "python",
   "pygments_lexer": "ipython3",
   "version": "3.10.11"
  }
 },
 "nbformat": 4,
 "nbformat_minor": 5
}
